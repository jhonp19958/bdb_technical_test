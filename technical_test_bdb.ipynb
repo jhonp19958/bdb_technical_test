{
 "cells": [
  {
   "cell_type": "markdown",
   "id": "6e13b1d5",
   "metadata": {},
   "source": [
    "# Prueba Técnica proceso de selección Banco de Bogotá - Científico Datos Senior\n",
    "\n",
    "## Problema:\n",
    "\n",
    "Se requiere crear un agente o un RL (Aprendizaje por Refuerzo) para que entrene/calibre un modelo de ML que pronostique el valor salarial en dólares “salary_in_usd” de diferentes roles/cargos a partir de información relacionada en la base de datos denominada “Base punto 1”. Con lo anterior, se espera que el agente opere dentro de un ciclo de aprendizaje (episodios o pasos) con frecuencia anual (En la hoja “base” se encuentra la variable “work_year”) y en cada proceso interactivo se espera que el agente utilice el modelo de ML productivo de ese paso para entregar la calificación de la base “Pronosticos” con la columna “Llave Pronostico” para que nosotros podamos evaluar la evolución del agente a lo largo del tiempo (“work_year”).\n",
    "\n",
    "## Interpretación del problema:\n",
    "\n",
    "Bajo mi entendimiento, lo que se espera es que se genere un agente que tome una serie de decisiones de que modelo entrenar en cada año de información. Bajo esta premisa, el agente tendrá a su disposición una serie de acciones, donde cada acción representa una configuración distinta de 4 modelos y el agente debe aprender a través del sistema de recompensas, cual configuración de modelo utilizar a fin de minimizar la métrica de error.\n",
    "\n",
    "En este ejercicio se utilizan 4 modelos diferentes:\n",
    "* **Regresión Lineal**: sirve como baseline de los demás modelos.\n",
    "* **Decision Tree**: permite mapear relaciones no lineales y todos los modelos de árboles son particularmente útiles para trabajar con variables categóricas.\n",
    "* **Random Forest**: reduce el potencial overfitting que se puede encontrar en los modelos de Decision Tree y tiene la particularidad de ser bastante potente en conjuntos de datos pequeños.\n",
    "* **XGBoost**: junto con LightGBM y CatBoost, suelen ser los modelos que mejor desempeño presentan en datos tabulares (ya que a veces no se cuenta con los datos necesarios para el entrenamiento de una NN). CatBoost es particularmente útil para trabajar con datos categóricos lo que lo hace sumamente fuerte en este escenario donde la mayoría de variables son categóricas. Sin embargo, se realizó su ejecución en un experimento y se encontró que XGBoost tendía a ser más estable y más rápido.\n",
    "\n",
    "Se entrenará un agente usando el algoritmo **DQN (Deep Q-Learning)** que peermite aproximar los valores Q del tradicional algoritmo de RL Q-Learning. Se utiliza este algoritmo, ya que se realizó una prueba con el algoritmo **A2C (Actor to Critical)** y no se generaron resultados. DQN es particularmente útil en este caso debido a que se manejan muchas posibles accione a seleccionar por parte del agente, y a través del uso de timesteps permite ajustar los pesos de la red neuronal subyacente para seleccionar la política que mejor se ajusta a las observaciones y estados del ambiente.\n",
    "\n",
    "## Pasos:\n",
    "\n",
    "* Cargar conjunto de datos y realizar una exploración inicial.\n",
    "* Realizar preprocesamiento y feature engineering del dataset.\n",
    "* Generar clase de ambiente de RL.\n",
    "* Entrenar agente a través de timesteps.\n",
    "* Evaluar desempeño del agente.\n",
    "* Predicción base solicitada.\n",
    "* Aprendizajes finales del modelo y aplicabilidad real.\n",
    "\n",
    "En este notebook se realizará la parte más interactiva del ejercicio, es decir, se realizará la parte de exploración del conjunto, de revisión de métricas y aplicabilidad. En el script `classes/salary_environment.py` se encuentra el código que contiene la clase del ambiente de RL para el entrenamiento del modelo."
   ]
  },
  {
   "cell_type": "markdown",
   "id": "ff85f541",
   "metadata": {},
   "source": [
    "## Librerías"
   ]
  },
  {
   "cell_type": "code",
   "execution_count": null,
   "id": "ec91aec5",
   "metadata": {},
   "outputs": [],
   "source": [
    "# Data manipulation and analysis libraries\n",
    "import json\n",
    "import pandas as pd\n",
    "import numpy as np\n",
    "import matplotlib.pyplot as plt\n",
    "import seaborn as sns\n",
    "from itertools import product\n",
    "from importlib import reload\n",
    "# Machine Learning libraries\n",
    "from sklearn.pipeline import Pipeline\n",
    "from sklearn.preprocessing import OneHotEncoder\n",
    "from sklearn.model_selection import cross_validate\n",
    "from sklearn.linear_model import LinearRegression\n",
    "from sklearn.tree import DecisionTreeRegressor\n",
    "from sklearn.ensemble import RandomForestRegressor\n",
    "from xgboost import XGBRegressor\n",
    "# Prompting libraries\n",
    "from openai import OpenAI\n",
    "# Reinforcement Learning libraries\n",
    "from stable_baselines3 import DQN\n",
    "from stable_baselines3.common.env_checker import check_env\n",
    "\n",
    "# Local imports\n",
    "from api import API_KEY\n",
    "from classes import salary_environment\n",
    "\n",
    "# Initialize OpenAI client with the API key\n",
    "client = OpenAI(api_key=API_KEY)"
   ]
  },
  {
   "cell_type": "code",
   "execution_count": 89,
   "id": "bed3e2eb",
   "metadata": {},
   "outputs": [
    {
     "data": {
      "text/plain": [
       "<module 'classes.salary_environment' from 'd:\\\\jhoparra\\\\Repos\\\\bdb_technical_test\\\\classes\\\\salary_environment.py'>"
      ]
     },
     "execution_count": 89,
     "metadata": {},
     "output_type": "execute_result"
    }
   ],
   "source": [
    "reload(salary_environment)"
   ]
  },
  {
   "cell_type": "markdown",
   "id": "2bc8bd36",
   "metadata": {},
   "source": [
    "## Variables globales"
   ]
  },
  {
   "cell_type": "code",
   "execution_count": 3,
   "id": "10947b8b",
   "metadata": {},
   "outputs": [],
   "source": [
    "PROMPT = \"\"\"\n",
    "You are a data scientist tasked with analyzing a dataset. The dataset contains various categorical variables.\n",
    "Your job is to group a lit of categories into broader categories based on their meanings.\n",
    "Your response must be a JSON object where the key are the categories provided and the value is its corresponding broader group, take the following examples as a reference:\n",
    "{{\n",
    "    \"US\": \"North America\",\n",
    "    \"FR\": \"Europe\"\n",
    "}}\n",
    "{{\n",
    "    \"Machine Learning Engineer\": \"Machine Learning\",\n",
    "    \"Data Scientist\": \"Data Science\",\n",
    "    \"Data Analyst\": \"Data Analysis\",\n",
    "    \"Software Engineer\": \"Software Development\",\n",
    "}}\n",
    "Take into account the type of the variable, it could be either a country or an employee role.\n",
    "The categories are separated by commas.\n",
    "The variable name is: {variable_type}\n",
    "The categories are: {list_categories}\n",
    "Your response:\n",
    "\"\"\"\n",
    "RANDOM_SEED = 1010"
   ]
  },
  {
   "cell_type": "markdown",
   "id": "820777ab",
   "metadata": {},
   "source": [
    "## Funciones"
   ]
  },
  {
   "cell_type": "code",
   "execution_count": 4,
   "id": "6fca4a65",
   "metadata": {},
   "outputs": [],
   "source": [
    "def plot_categorical_variables(data, var):\n",
    "    \"\"\"\n",
    "    Plots the distribution of a categorical variable in the dataset.\n",
    "\n",
    "    Parameters:\n",
    "    data (pd.DataFrame): The input DataFrame containing the data.\n",
    "    var (str): The name of the categorical variable to plot.\n",
    "\n",
    "    Returns:\n",
    "    None\n",
    "    \"\"\"\n",
    "    plt.figure(figsize=(10, 6))\n",
    "    sns.countplot(data=data, x=var, order=data[var].value_counts().index)\n",
    "    plt.title(f\"Distribution of {var}\")\n",
    "    plt.xticks(rotation=45)\n",
    "    plt.tight_layout()\n",
    "    plt.show()"
   ]
  },
  {
   "cell_type": "code",
   "execution_count": 5,
   "id": "af4eab83",
   "metadata": {},
   "outputs": [],
   "source": [
    "def aggregate_categories(variable_type, categories, base_prompt=PROMPT):\n",
    "    \"\"\"\n",
    "    Aggregates categories based on the variable type and base prompt.\n",
    "\n",
    "    Parameters:\n",
    "    categories (list): List of categories to aggregate.\n",
    "    variable_type (str): Type of the variable (e.g., \"country\").\n",
    "    base_prompt (str): Base prompt with instructions for aggregation.\n",
    "\n",
    "    Returns:\n",
    "    list: Aggregated categories.\n",
    "    \"\"\"\n",
    "    response = client.chat.completions.create(\n",
    "        model=\"gpt-4\",\n",
    "        messages=[\n",
    "            {\"role\": \"system\", \"content\": \"You are a helpful assistant.\"},\n",
    "            {\"role\": \"user\", \"content\": base_prompt.format(variable_type=variable_type, list_categories=\", \".join(categories))}\n",
    "        ],\n",
    "        temperature=0.0\n",
    "    )\n",
    "    return json.loads(response.choices[0].message.content)"
   ]
  },
  {
   "cell_type": "code",
   "execution_count": 6,
   "id": "471bb3ca",
   "metadata": {},
   "outputs": [],
   "source": [
    "def define_model(model, dict_parameters=None):\n",
    "    \"\"\"\n",
    "    Define a machine learning model based on the provided parameters.\n",
    "\n",
    "    Parameters:\n",
    "    model (class): The machine learning model class to instantiate.\n",
    "    dict_parameters (dict, optional): Dictionary of parameters for the model.\n",
    "\n",
    "    Returns:\n",
    "    generator: The action to execute.\n",
    "    \"\"\"\n",
    "    if dict_parameters is not None:\n",
    "        list_values = list(dict_parameters.values())\n",
    "        # Se va an a generar todas las combinaciones de los valores de los parámetros\n",
    "        list_combinations = list(product(*list_values))\n",
    "        for combination in list_combinations:\n",
    "            dict_parameters_combination = dict(zip(dict_parameters.keys(), combination))\n",
    "            yield {\"base_model\": model, \"kwargs\": dict_parameters_combination}"
   ]
  },
  {
   "cell_type": "code",
   "execution_count": 7,
   "id": "67394f43",
   "metadata": {},
   "outputs": [],
   "source": [
    "def get_action(action_to_execute):\n",
    "    \"\"\"\n",
    "    Returns the model initialized to execute based on the provided action.\n",
    "\n",
    "    Parameters:\n",
    "    action_to_execute (dict): A dictionary containing the model class and its arguments.\n",
    "\n",
    "    Returns:\n",
    "    object: An instance of the base model initialized with the provided parameters.\n",
    "    \"\"\"\n",
    "    base_model = action_to_execute.get(\"base_model\")\n",
    "    kwargs = action_to_execute.get(\"kwargs\")\n",
    "    if base_model is None:\n",
    "        raise ValueError(\"Action must contain a 'base_model' key.\")\n",
    "    if kwargs is None:\n",
    "        return base_model()\n",
    "    else:\n",
    "        return base_model(**kwargs)"
   ]
  },
  {
   "cell_type": "code",
   "execution_count": 8,
   "id": "81233f0c",
   "metadata": {},
   "outputs": [],
   "source": [
    "def simulate_steps(base, step_variable, target_variable, list_actions, action_dict):\n",
    "    \"\"\"\n",
    "    Simulates the steps of a reinforcement learning environment using the provided base data.\n",
    "\n",
    "    Parameters:\n",
    "    base (pd.DataFrame): The input DataFrame containing the data.\n",
    "    step_variable (str): The variable indicating the step or year in the dataset.\n",
    "    target_variable (str): The target variable to predict.\n",
    "    list_actions (list): List of actions to take at each step.\n",
    "    action_dict (dict): Dictionary mapping years to actions.\n",
    "\n",
    "    Returns:\n",
    "    cv_results (list): List of cross-validation results for each year.\n",
    "    \"\"\"\n",
    "    list_cv_results = []\n",
    "    for year in np.sort(base.work_year.unique()):\n",
    "        print(f\"Evaluando año: {year}\")\n",
    "        data_year = base[base[step_variable] == year]\n",
    "        X = data_year.drop(columns=[target_variable, step_variable])\n",
    "        y = data_year[target_variable]\n",
    "\n",
    "        # Inicializar el modelo con los datos filtrados\n",
    "        model = get_action(list_actions[action_dict[year]])\n",
    "\n",
    "        # Crear OHE para las variables categóricas\n",
    "        categorical_cols = X.select_dtypes(\n",
    "            include=[\"object\", \"category\"]\n",
    "        ).columns\n",
    "        if not categorical_cols.empty:\n",
    "            ohe = OneHotEncoder(sparse_output=False, handle_unknown=\"ignore\")\n",
    "            # Crear pipeline con OHE si es necesario\n",
    "            pipeline_model = Pipeline([(\"ohe\", ohe), (\"model\", model)])\n",
    "        else:\n",
    "            # Si no hay variables categóricas, usar el modelo directamente\n",
    "            pipeline_model = model\n",
    "        # Realizar validación cruzada para evaluar el modelo\n",
    "        cv_results = cross_validate(\n",
    "            pipeline_model, X, y, scoring=\"neg_root_mean_squared_error\", cv=3\n",
    "        )\n",
    "        reward = -cv_results[\"test_score\"].mean()\n",
    "        print(reward)\n",
    "        list_cv_results.append(cv_results)\n",
    "    return list_cv_results"
   ]
  },
  {
   "cell_type": "markdown",
   "id": "a952742d",
   "metadata": {},
   "source": [
    "## 1. Cargar conjunto de datos y realizar una exploración inicial"
   ]
  },
  {
   "cell_type": "markdown",
   "id": "da1b87f4",
   "metadata": {},
   "source": [
    "### Exploración inicial del dataset\n",
    "\n",
    "En esta sección el enfoque es familiarizarse con el dataset para definir próximos pasos en el preprocesamiento y posterior modelado."
   ]
  },
  {
   "cell_type": "code",
   "execution_count": 9,
   "id": "d4255aec",
   "metadata": {},
   "outputs": [
    {
     "data": {
      "text/html": [
       "<div>\n",
       "<style scoped>\n",
       "    .dataframe tbody tr th:only-of-type {\n",
       "        vertical-align: middle;\n",
       "    }\n",
       "\n",
       "    .dataframe tbody tr th {\n",
       "        vertical-align: top;\n",
       "    }\n",
       "\n",
       "    .dataframe thead th {\n",
       "        text-align: right;\n",
       "    }\n",
       "</style>\n",
       "<table border=\"1\" class=\"dataframe\">\n",
       "  <thead>\n",
       "    <tr style=\"text-align: right;\">\n",
       "      <th></th>\n",
       "      <th>work_year</th>\n",
       "      <th>experience_level</th>\n",
       "      <th>employment_type</th>\n",
       "      <th>job_title</th>\n",
       "      <th>employee_residence</th>\n",
       "      <th>remote_ratio</th>\n",
       "      <th>company_location</th>\n",
       "      <th>company_size</th>\n",
       "      <th>salary_in_usd</th>\n",
       "    </tr>\n",
       "  </thead>\n",
       "  <tbody>\n",
       "    <tr>\n",
       "      <th>0</th>\n",
       "      <td>2023</td>\n",
       "      <td>MI</td>\n",
       "      <td>FT</td>\n",
       "      <td>Machine Learning Engineer</td>\n",
       "      <td>US</td>\n",
       "      <td>100</td>\n",
       "      <td>US</td>\n",
       "      <td>M</td>\n",
       "      <td>150000</td>\n",
       "    </tr>\n",
       "    <tr>\n",
       "      <th>1</th>\n",
       "      <td>2023</td>\n",
       "      <td>MI</td>\n",
       "      <td>FT</td>\n",
       "      <td>Machine Learning Engineer</td>\n",
       "      <td>US</td>\n",
       "      <td>100</td>\n",
       "      <td>US</td>\n",
       "      <td>M</td>\n",
       "      <td>50000</td>\n",
       "    </tr>\n",
       "    <tr>\n",
       "      <th>2</th>\n",
       "      <td>2023</td>\n",
       "      <td>MI</td>\n",
       "      <td>FT</td>\n",
       "      <td>Data Engineer</td>\n",
       "      <td>GB</td>\n",
       "      <td>0</td>\n",
       "      <td>GB</td>\n",
       "      <td>M</td>\n",
       "      <td>73824</td>\n",
       "    </tr>\n",
       "    <tr>\n",
       "      <th>3</th>\n",
       "      <td>2023</td>\n",
       "      <td>MI</td>\n",
       "      <td>FT</td>\n",
       "      <td>Data Engineer</td>\n",
       "      <td>GB</td>\n",
       "      <td>0</td>\n",
       "      <td>GB</td>\n",
       "      <td>M</td>\n",
       "      <td>55368</td>\n",
       "    </tr>\n",
       "    <tr>\n",
       "      <th>4</th>\n",
       "      <td>2023</td>\n",
       "      <td>SE</td>\n",
       "      <td>FT</td>\n",
       "      <td>Data Science Engineer</td>\n",
       "      <td>US</td>\n",
       "      <td>100</td>\n",
       "      <td>US</td>\n",
       "      <td>M</td>\n",
       "      <td>220000</td>\n",
       "    </tr>\n",
       "  </tbody>\n",
       "</table>\n",
       "</div>"
      ],
      "text/plain": [
       "   work_year experience_level employment_type                  job_title  \\\n",
       "0       2023               MI              FT  Machine Learning Engineer   \n",
       "1       2023               MI              FT  Machine Learning Engineer   \n",
       "2       2023               MI              FT              Data Engineer   \n",
       "3       2023               MI              FT              Data Engineer   \n",
       "4       2023               SE              FT      Data Science Engineer   \n",
       "\n",
       "  employee_residence  remote_ratio company_location company_size  \\\n",
       "0                 US           100               US            M   \n",
       "1                 US           100               US            M   \n",
       "2                 GB             0               GB            M   \n",
       "3                 GB             0               GB            M   \n",
       "4                 US           100               US            M   \n",
       "\n",
       "   salary_in_usd  \n",
       "0         150000  \n",
       "1          50000  \n",
       "2          73824  \n",
       "3          55368  \n",
       "4         220000  "
      ]
     },
     "execution_count": 9,
     "metadata": {},
     "output_type": "execute_result"
    }
   ],
   "source": [
    "# Leer archivo\n",
    "base = pd.read_excel(\"./files/Base_Prueba_Tecnica_DSS.xlsx\", sheet_name=\"base\")\n",
    "base.head()"
   ]
  },
  {
   "cell_type": "code",
   "execution_count": 10,
   "id": "7443da8c",
   "metadata": {},
   "outputs": [
    {
     "name": "stdout",
     "output_type": "stream",
     "text": [
      "<class 'pandas.core.frame.DataFrame'>\n",
      "RangeIndex: 7887 entries, 0 to 7886\n",
      "Data columns (total 9 columns):\n",
      " #   Column              Non-Null Count  Dtype \n",
      "---  ------              --------------  ----- \n",
      " 0   work_year           7887 non-null   int64 \n",
      " 1   experience_level    7887 non-null   object\n",
      " 2   employment_type     7887 non-null   object\n",
      " 3   job_title           7887 non-null   object\n",
      " 4   employee_residence  7887 non-null   object\n",
      " 5   remote_ratio        7887 non-null   int64 \n",
      " 6   company_location    7887 non-null   object\n",
      " 7   company_size        7887 non-null   object\n",
      " 8   salary_in_usd       7887 non-null   int64 \n",
      "dtypes: int64(3), object(6)\n",
      "memory usage: 554.7+ KB\n"
     ]
    }
   ],
   "source": [
    "base.info()"
   ]
  },
  {
   "cell_type": "markdown",
   "id": "de331dbd",
   "metadata": {},
   "source": [
    "Ninguna variable tiene datos nulos perse, puede que cuenten con datos nulos codificados con algún valor puntual como -1 o NA."
   ]
  },
  {
   "cell_type": "code",
   "execution_count": 11,
   "id": "da98281a",
   "metadata": {},
   "outputs": [
    {
     "data": {
      "text/plain": [
       "work_year\n",
       "2020      36\n",
       "2021     163\n",
       "2022    1630\n",
       "2023    6058\n",
       "Name: count, dtype: int64"
      ]
     },
     "execution_count": 11,
     "metadata": {},
     "output_type": "execute_result"
    }
   ],
   "source": [
    "# Datos por año\n",
    "base.work_year.value_counts().sort_index()"
   ]
  },
  {
   "cell_type": "markdown",
   "id": "93a6736c",
   "metadata": {},
   "source": [
    "Existen 4 años de información. En general, hay una tendencia donde los años más recientes tienen mayor cantidad de información."
   ]
  },
  {
   "cell_type": "code",
   "execution_count": 12,
   "id": "3a88da4d",
   "metadata": {},
   "outputs": [
    {
     "name": "stdout",
     "output_type": "stream",
     "text": [
      "experience_level: 4 categorías\n",
      "employment_type: 4 categorías\n",
      "job_title: 116 categorías\n",
      "employee_residence: 80 categorías\n",
      "company_location: 70 categorías\n",
      "company_size: 3 categorías\n"
     ]
    }
   ],
   "source": [
    "# Imprimir cantidad de categorías en variables categoricas\n",
    "for col in base.select_dtypes(include=[\"object\"]).columns:\n",
    "    print(f\"{col}: {base[col].nunique()} categorías\")"
   ]
  },
  {
   "cell_type": "markdown",
   "id": "b73e07da",
   "metadata": {},
   "source": [
    "Se evidencian que hay 3 variables con baja cantidad de categorías (experience_level, employment_type, company_size). Mientras que las variables job_title, employee_residence y company_location tienen múltiples categorías, lo que puede dificultar su procesamiento en un enfoque tradicional de OHE. Para estas categorías se realizará un preprocesamiento para unificar categorías bien sea por una categoría superior o al agrupar categorías con baja frecuencia en una categoría unificada de otros."
   ]
  },
  {
   "cell_type": "code",
   "execution_count": 13,
   "id": "a642be55",
   "metadata": {},
   "outputs": [
    {
     "name": "stdout",
     "output_type": "stream",
     "text": [
      "Hasta top 10 categorías experience_level: SE, MI, EN, EX\n",
      "Hasta top 10 categorías employment_type: FT, CT, FL, PT\n",
      "Hasta top 10 categorías job_title: Data Engineer, Data Scientist, Data Analyst, Machine Learning Engineer, Applied Scientist, Analytics Engineer, Research Scientist, Data Architect, Data Manager, Research Engineer\n",
      "Hasta top 10 categorías employee_residence: US, GB, CA, ES, IN, DE, FR, PT, AU, BR\n",
      "Hasta top 10 categorías company_location: US, GB, CA, ES, DE, IN, FR, AU, PT, BR\n",
      "Hasta top 10 categorías company_size: M, L, S\n"
     ]
    }
   ],
   "source": [
    "# Imprimir categorías más frecuentes\n",
    "for col in base.select_dtypes(include=[\"object\"]).columns:\n",
    "    print(f\"Hasta top 10 categorías {col}: {', '.join(list(base[col].value_counts().index[:10]))}\")"
   ]
  },
  {
   "cell_type": "markdown",
   "id": "c4d91886",
   "metadata": {},
   "source": [
    "No se ven valores extraños. Sin embargo, es claro que no necesariamente el país de residencia es el mismo de la ubicación de la compañía (si los datos no tienen inconsistencias, solo se debería presentar en empleados 100% remotos). Esto se explorará en la siguiente sección.\n",
    "\n",
    "También se aprecia que es posible que la última palabra del job title, ayude en la creación de una nueva variable y en su categorización."
   ]
  },
  {
   "cell_type": "code",
   "execution_count": 14,
   "id": "25e1ee09",
   "metadata": {},
   "outputs": [
    {
     "data": {
      "text/html": [
       "<div>\n",
       "<style scoped>\n",
       "    .dataframe tbody tr th:only-of-type {\n",
       "        vertical-align: middle;\n",
       "    }\n",
       "\n",
       "    .dataframe tbody tr th {\n",
       "        vertical-align: top;\n",
       "    }\n",
       "\n",
       "    .dataframe thead th {\n",
       "        text-align: right;\n",
       "    }\n",
       "</style>\n",
       "<table border=\"1\" class=\"dataframe\">\n",
       "  <thead>\n",
       "    <tr style=\"text-align: right;\">\n",
       "      <th></th>\n",
       "      <th>remote_ratio</th>\n",
       "      <th>salary_in_usd</th>\n",
       "    </tr>\n",
       "  </thead>\n",
       "  <tbody>\n",
       "    <tr>\n",
       "      <th>count</th>\n",
       "      <td>7887.000000</td>\n",
       "      <td>7887.000000</td>\n",
       "    </tr>\n",
       "    <tr>\n",
       "      <th>mean</th>\n",
       "      <td>39.603144</td>\n",
       "      <td>149974.480664</td>\n",
       "    </tr>\n",
       "    <tr>\n",
       "      <th>std</th>\n",
       "      <td>48.300377</td>\n",
       "      <td>63544.849288</td>\n",
       "    </tr>\n",
       "    <tr>\n",
       "      <th>min</th>\n",
       "      <td>0.000000</td>\n",
       "      <td>15000.000000</td>\n",
       "    </tr>\n",
       "    <tr>\n",
       "      <th>25%</th>\n",
       "      <td>0.000000</td>\n",
       "      <td>105700.000000</td>\n",
       "    </tr>\n",
       "    <tr>\n",
       "      <th>50%</th>\n",
       "      <td>0.000000</td>\n",
       "      <td>143200.000000</td>\n",
       "    </tr>\n",
       "    <tr>\n",
       "      <th>75%</th>\n",
       "      <td>100.000000</td>\n",
       "      <td>186450.000000</td>\n",
       "    </tr>\n",
       "    <tr>\n",
       "      <th>max</th>\n",
       "      <td>100.000000</td>\n",
       "      <td>430967.000000</td>\n",
       "    </tr>\n",
       "  </tbody>\n",
       "</table>\n",
       "</div>"
      ],
      "text/plain": [
       "       remote_ratio  salary_in_usd\n",
       "count   7887.000000    7887.000000\n",
       "mean      39.603144  149974.480664\n",
       "std       48.300377   63544.849288\n",
       "min        0.000000   15000.000000\n",
       "25%        0.000000  105700.000000\n",
       "50%        0.000000  143200.000000\n",
       "75%      100.000000  186450.000000\n",
       "max      100.000000  430967.000000"
      ]
     },
     "execution_count": 14,
     "metadata": {},
     "output_type": "execute_result"
    }
   ],
   "source": [
    "# Distribución de variables numéricas\n",
    "base.drop(columns=\"work_year\").describe()"
   ]
  },
  {
   "cell_type": "markdown",
   "id": "595fe86a",
   "metadata": {},
   "source": [
    "Esta distribución de los datos muestra que no hay un sesgo importante de la variable de salario (caso típico en variables de este estilo), ya que la media y la mediana se encuentran relativamente cerca (150k vs 143k respectivamente). Además, se concluye que no tiene datos faltantes (no tiene valores en 0 o -1). Se hace un doble click sobre la variable remote ratio."
   ]
  },
  {
   "cell_type": "code",
   "execution_count": 15,
   "id": "4b157479",
   "metadata": {},
   "outputs": [
    {
     "data": {
      "text/plain": [
       "remote_ratio\n",
       "0      4670\n",
       "50      187\n",
       "100    3030\n",
       "Name: count, dtype: int64"
      ]
     },
     "execution_count": 15,
     "metadata": {},
     "output_type": "execute_result"
    }
   ],
   "source": [
    "# Remote ratio\n",
    "base.remote_ratio.value_counts().sort_index()"
   ]
  },
  {
   "cell_type": "markdown",
   "id": "9ce547c0",
   "metadata": {},
   "source": [
    "La variable remote ratio solo cuenta con 3 valores únicos, por lo que su comportamiento es más el de una variable categórica al de una variable continua. Sin embargo, se puede interpretrar que la mayoría de los usuarios trabajan presencial vs aquellos que lo hacen a medio tiempo y aquellos completamente remoto."
   ]
  },
  {
   "cell_type": "markdown",
   "id": "8c9f3354",
   "metadata": {},
   "source": [
    "### Análisis gráfico de las variables\n",
    "\n",
    "En esta sección se realiza un análisis gráfico inicial de las variables con especial énfasis en variables que necesitan preprocesamiento y en la variable target `salary_in_usd`."
   ]
  },
  {
   "cell_type": "code",
   "execution_count": 16,
   "id": "71e43f86",
   "metadata": {},
   "outputs": [
    {
     "data": {
      "image/png": "[encoded data removed]",
      "text/plain": [
       "<Figure size 1000x600 with 1 Axes>"
      ]
     },
     "metadata": {},
     "output_type": "display_data"
    }
   ],
   "source": [
    "plt.figure(figsize=(10, 6))\n",
    "sns.histplot(base.salary_in_usd, bins=20, kde=True)\n",
    "plt.title(\"Distribución de Salarios en USD\")\n",
    "plt.xlabel(\"Salario en USD\")\n",
    "# Agregar líneas de referencia\n",
    "plt.axvline(base.salary_in_usd.mean(), color=\"red\", linestyle=\"--\", label=\"Media\")\n",
    "plt.axvline(base.salary_in_usd.median(), color=\"green\", linestyle=\"--\", label=\"Mediana\")\n",
    "plt.legend()\n",
    "plt.show()"
   ]
  },
  {
   "cell_type": "markdown",
   "id": "1c38c6b9",
   "metadata": {},
   "source": [
    "Tal y como se planteaba no hay un sesgo importante en la variable, con valores atípicos a la derecha de la distribución. Esto evita un procesamiento adicional en la variable, ya que habría sido necesario realizar una transformación de la variable (como la transformación logarítmica). Se prosigue con el análisis gráfico de las demás variables. Ahora se revisa la evolución de los salarios en cada uno de los años."
   ]
  },
  {
   "cell_type": "code",
   "execution_count": 17,
   "id": "9180c9da",
   "metadata": {},
   "outputs": [
    {
     "data": {
      "image/png": "[encoded data removed]",
      "text/plain": [
       "<Figure size 1200x600 with 1 Axes>"
      ]
     },
     "metadata": {},
     "output_type": "display_data"
    }
   ],
   "source": [
    "# Evolución de salarios por año\n",
    "plt.figure(figsize=(12, 6))\n",
    "sns.barplot(data=base, x=\"work_year\", y=\"salary_in_usd\", estimator=\"median\")\n",
    "plt.title(\"Evolución de Salarios por Año\")\n",
    "plt.xlabel(\"Año\")\n",
    "plt.ylabel(\"Mediana del Salario en USD\")\n",
    "plt.xticks(rotation=45)\n",
    "plt.tight_layout()\n",
    "plt.show()"
   ]
  },
  {
   "cell_type": "markdown",
   "id": "00af5b04",
   "metadata": {},
   "source": [
    "Arriba se puede ver que la mediana del salario ha incrementado año a año, lo cual tiene mucho sentido tomando en consideración los aumentos anuales por la inflación en cada país. En este sentido, sería interesante incluir una variable que contemple la inflación año a año por país, ya que esto puede agregar mayor ajuste a los cambios de nivel que se ven año a año."
   ]
  },
  {
   "cell_type": "code",
   "execution_count": 18,
   "id": "c9cb1217",
   "metadata": {},
   "outputs": [
    {
     "data": {
      "image/png": "[encoded data removed]",
      "text/plain": [
       "<Figure size 1000x600 with 1 Axes>"
      ]
     },
     "metadata": {},
     "output_type": "display_data"
    },
    {
     "data": {
      "image/png": "[encoded data removed]",
      "text/plain": [
       "<Figure size 1000x600 with 1 Axes>"
      ]
     },
     "metadata": {},
     "output_type": "display_data"
    },
    {
     "data": {
      "image/png": "[encoded data removed]",
      "text/plain": [
       "<Figure size 1000x600 with 1 Axes>"
      ]
     },
     "metadata": {},
     "output_type": "display_data"
    },
    {
     "data": {
      "image/png": "[encoded data removed]",
      "text/plain": [
       "<Figure size 1000x600 with 1 Axes>"
      ]
     },
     "metadata": {},
     "output_type": "display_data"
    },
    {
     "data": {
      "image/png": "[encoded data removed]",
      "text/plain": [
       "<Figure size 1000x600 with 1 Axes>"
      ]
     },
     "metadata": {},
     "output_type": "display_data"
    },
    {
     "data": {
      "image/png": "[encoded data removed]",
      "text/plain": [
       "<Figure size 1000x600 with 1 Axes>"
      ]
     },
     "metadata": {},
     "output_type": "display_data"
    },
    {
     "data": {
      "image/png": "[encoded data removed]",
      "text/plain": [
       "<Figure size 1000x600 with 1 Axes>"
      ]
     },
     "metadata": {},
     "output_type": "display_data"
    }
   ],
   "source": [
    "# Graficar variables categóricas\n",
    "variables = base.drop(columns=[\"work_year\", \"salary_in_usd\"]).columns\n",
    "for col in variables:\n",
    "    unique_values = base[col].nunique()\n",
    "    if unique_values <= 20:  # Limitar a variables con 10 o menos categorías\n",
    "        plot_categorical_variables(base, col)\n",
    "    else:\n",
    "        filt_categories = list(base[col].value_counts().index[:20])\n",
    "        plot_categorical_variables(base[base[col].isin(filt_categories)], col)"
   ]
  },
  {
   "cell_type": "markdown",
   "id": "e2b86719",
   "metadata": {},
   "source": [
    "Conclusiones por gráfica:\n",
    "\n",
    "* La mayoría de los empleados tiene un nivel **SE** (probablemente indique Senior). Es un comportamiento curioso de la realidad, ya que suelen haber más empleados en roles middle o entry.\n",
    "* La variable `employment_type` tiene predominancia de una categoría, con cerca del 100% de los roles en la modalidad **FT** (Full Time) en este sentido, esta variable no debería aportar mucha información a la hora de realizar la predicción. Aunque es una variable que en la realidad si debería ser importante a la hora de determinar el salario, en este caso su impacto global en el modelo será mínimo.\n",
    "* Algo interesante que se aprecia en las gráficas es que el título del cargo definitivamente necesita una estandarización, ya que tenemos casos como **Machine Learning Engineer** y **ML Engineer** que representan aparentemente dos cargos diferentes pero que en la práctica deberían ser el mismo. Este procesamiento se realizará con la ayuda de un LLM donde se le solicitará que unifique los cargos.\n",
    "* La mayoría de los empleados están ubicados y trabajan para una empresa Estadounidense, se podría intentar dejar solo dos categorías **US** y **Non-US**, ya que la representación de los otros países es baja. La otra alternativa es agruparlo por continente.\n",
    "* Nada adicional para comentar de la variable `remote_ratio`.\n",
    "* La mayoría de los empleados trabajan para empresas de tamaño **M** o Medianas."
   ]
  },
  {
   "cell_type": "code",
   "execution_count": 19,
   "id": "463593f4",
   "metadata": {},
   "outputs": [
    {
     "data": {
      "text/plain": [
       "employment_type\n",
       "FT    0.995943\n",
       "CT    0.001902\n",
       "FL    0.001141\n",
       "PT    0.001014\n",
       "Name: proportion, dtype: float64"
      ]
     },
     "execution_count": 19,
     "metadata": {},
     "output_type": "execute_result"
    }
   ],
   "source": [
    "# Porcentaje de employment type\n",
    "base.employment_type.value_counts(normalize=True)"
   ]
  },
  {
   "cell_type": "markdown",
   "id": "2dc9c940",
   "metadata": {},
   "source": [
    "Se elimina la variable por ser casi única (tiene más del 99% de los datos concentrados en un único valor)."
   ]
  },
  {
   "cell_type": "code",
   "execution_count": 20,
   "id": "03903ddf",
   "metadata": {},
   "outputs": [
    {
     "name": "stdout",
     "output_type": "stream",
     "text": [
      "0.9865601622923799\n"
     ]
    },
    {
     "data": {
      "text/plain": [
       "remote_ratio\n",
       "100    83\n",
       "50     19\n",
       "0       4\n",
       "Name: count, dtype: int64"
      ]
     },
     "execution_count": 20,
     "metadata": {},
     "output_type": "execute_result"
    }
   ],
   "source": [
    "# Calidad de datos, coincidencia de residencia y trabajo\n",
    "residence_and_work_match = base.employee_residence == base.company_location\n",
    "print(residence_and_work_match.mean())\n",
    "base.remote_ratio[~residence_and_work_match].value_counts()"
   ]
  },
  {
   "cell_type": "markdown",
   "id": "58779e42",
   "metadata": {},
   "source": [
    "En este caso hay un 98% de lo casos donde los empleados viven en el mismo país de la empresa para la que trabajan. Es curioso que 23 personas no trabajan 100% remoto y además no viven en el mismo país de su compañía."
   ]
  },
  {
   "cell_type": "code",
   "execution_count": 21,
   "id": "ec8ad962",
   "metadata": {},
   "outputs": [
    {
     "data": {
      "text/plain": [
       "company_location  employee_residence\n",
       "AT                DE                    1\n",
       "AU                IN                    1\n",
       "                  NG                    1\n",
       "BS                AS                    1\n",
       "CA                US                    1\n",
       "CN                JE                    1\n",
       "CZ                PH                    1\n",
       "DE                US                    1\n",
       "EE                CY                    1\n",
       "GB                RO                    1\n",
       "LU                FR                    1\n",
       "PL                TR                    1\n",
       "RO                ES                    1\n",
       "RU                UZ                    1\n",
       "SG                IN                    1\n",
       "US                CA                    1\n",
       "                  CN                    1\n",
       "                  CR                    1\n",
       "                  DE                    1\n",
       "                  HU                    1\n",
       "                  IN                    1\n",
       "                  KW                    1\n",
       "                  PR                    1\n",
       "Name: count, dtype: int64"
      ]
     },
     "execution_count": 21,
     "metadata": {},
     "output_type": "execute_result"
    }
   ],
   "source": [
    "base[[\"company_location\", \"employee_residence\"]][(~residence_and_work_match) & (base.remote_ratio < 100)].value_counts().sort_index()"
   ]
  },
  {
   "cell_type": "markdown",
   "id": "802e6d5b",
   "metadata": {},
   "source": [
    "Parecen casos aislados de codificación de los datos. Sería importante validar en un escenario real esta información. Ya que la coincidencia es tan alta, se dejará el país de residencia del empleado como variable independiente del modelo y la otra variable se eliminará del conjunto de datos.\n",
    "\n",
    "Ahora se van a agrupar las variables categóricas en el paso de feature engineering y se sacará el promedio de salario por cada categoría."
   ]
  },
  {
   "cell_type": "markdown",
   "id": "6d5f8721",
   "metadata": {},
   "source": [
    "## 2. Realizar preprocesamiento y feature engineering del dataset.\n",
    "\n",
    "En esta sección se elimina la variable con casi 100% de valores únicos y se realiza el agrupamiento de las variables categóricas con más de 5 categorías."
   ]
  },
  {
   "cell_type": "code",
   "execution_count": 22,
   "id": "11cb59c0",
   "metadata": {},
   "outputs": [],
   "source": [
    "# Eliminar variable con casi 100% de unicidad\n",
    "base = base.drop(columns=[\"employment_type\", \"company_location\"])"
   ]
  },
  {
   "cell_type": "code",
   "execution_count": 23,
   "id": "baa22e92",
   "metadata": {},
   "outputs": [],
   "source": [
    "# Agrupar categorías de país\n",
    "country_categories = base.employee_residence.unique().tolist()\n",
    "variable_type = \"country\"\n",
    "aggregated_categories = aggregate_categories(variable_type, country_categories)"
   ]
  },
  {
   "cell_type": "code",
   "execution_count": 24,
   "id": "9ca61f67",
   "metadata": {},
   "outputs": [
    {
     "name": "stdout",
     "output_type": "stream",
     "text": [
      "{'US': 'North America', 'GB': 'Europe', 'CA': 'North America', 'GR': 'Europe', 'CO': 'South America', 'PT': 'Europe', 'UA': 'Europe', 'FR': 'Europe', 'NL': 'Europe', 'IN': 'Asia', 'ES': 'Europe', 'LV': 'Europe', 'IT': 'Europe', 'DE': 'Europe', 'PL': 'Europe', 'AM': 'Asia', 'HR': 'Europe', 'TH': 'Asia', 'KR': 'Asia', 'EE': 'Europe', 'TR': 'Asia', 'PH': 'Asia', 'BR': 'South America', 'QA': 'Asia', 'KE': 'Africa', 'RU': 'Europe', 'TN': 'Africa', 'GH': 'Africa', 'AU': 'Oceania', 'BE': 'Europe', 'CH': 'Europe', 'AD': 'Europe', 'EC': 'South America', 'PE': 'South America', 'MX': 'North America', 'MD': 'Europe', 'NG': 'Africa', 'SA': 'Asia', 'NO': 'Europe', 'AR': 'South America', 'EG': 'Africa', 'UZ': 'Asia', 'GE': 'Asia', 'JP': 'Asia', 'ZA': 'Africa', 'HK': 'Asia', 'CF': 'Africa', 'FI': 'Europe', 'IE': 'Europe', 'IL': 'Asia', 'AT': 'Europe', 'SG': 'Asia', 'SE': 'Europe', 'SI': 'Europe', 'KW': 'Asia', 'CY': 'Asia', 'BA': 'Europe', 'RO': 'Europe', 'PK': 'Asia', 'LT': 'Europe', 'IR': 'Asia', 'AS': 'Oceania', 'HU': 'Europe', 'CN': 'Asia', 'CR': 'North America', 'CL': 'South America', 'PR': 'North America', 'DK': 'Europe', 'BO': 'South America', 'DO': 'North America', 'ID': 'Asia', 'AE': 'Asia', 'MY': 'Asia', 'DZ': 'Africa', 'IQ': 'Asia', 'BG': 'Europe', 'JE': 'Europe', 'RS': 'Europe', 'NZ': 'Oceania', 'VN': 'Asia'}\n"
     ]
    }
   ],
   "source": [
    "print(aggregated_categories)"
   ]
  },
  {
   "cell_type": "markdown",
   "id": "a2b1db1b",
   "metadata": {},
   "source": [
    "Por lo que pude observar las categorías parecen acorde a lo esperado. Se va a realizar el mapeo."
   ]
  },
  {
   "cell_type": "code",
   "execution_count": 25,
   "id": "fd68247f",
   "metadata": {},
   "outputs": [
    {
     "data": {
      "text/plain": [
       "continent_employee\n",
       "North America    6936\n",
       "Europe            748\n",
       "Asia              113\n",
       "South America      47\n",
       "Africa             22\n",
       "Oceania            21\n",
       "Name: count, dtype: int64"
      ]
     },
     "execution_count": 25,
     "metadata": {},
     "output_type": "execute_result"
    }
   ],
   "source": [
    "base[\"continent_employee\"] = base.employee_residence.map(aggregated_categories).fillna(\"Other\")\n",
    "# Revisar la distribución de continentes\n",
    "base.continent_employee.value_counts()"
   ]
  },
  {
   "cell_type": "markdown",
   "id": "266e9468",
   "metadata": {},
   "source": [
    "Por lo que ahora solo se tienen 6 categorías de esta variable.\n",
    "\n",
    "Ahora se va a sacar la última palabra del título del rol para ver como quedarían agrupados los cargos."
   ]
  },
  {
   "cell_type": "code",
   "execution_count": 26,
   "id": "ee987e54",
   "metadata": {},
   "outputs": [
    {
     "data": {
      "text/plain": [
       "group_job\n",
       "Engineer        3441\n",
       "Scientist       2262\n",
       "Analyst         1359\n",
       "Manager          262\n",
       "Architect        194\n",
       "Developer        104\n",
       "Specialist        59\n",
       "Science           38\n",
       "Lead              35\n",
       "Consultant        35\n",
       "Data              29\n",
       "Modeler           20\n",
       "Strategist        16\n",
       "Researcher        12\n",
       "Practitioner       8\n",
       "Programmer         5\n",
       "Learning           3\n",
       "Modeller           2\n",
       "Technician         2\n",
       "Management         1\n",
       "Name: count, dtype: int64"
      ]
     },
     "execution_count": 26,
     "metadata": {},
     "output_type": "execute_result"
    }
   ],
   "source": [
    "base[\"group_job\"] = base.job_title.apply(lambda x: x.split()[-1])\n",
    "base.group_job.value_counts()"
   ]
  },
  {
   "cell_type": "markdown",
   "id": "6ea4eb32",
   "metadata": {},
   "source": [
    "Esta agrupación parece correcta, sin embargo hay algunos casos que podrían agruparse en otras categorías, como **Programmer** con **Developer**. Aún así no parece ser tan exacto y hay algunas incongruencias, por ello se va a pasar por el mismo prompt que se pasó el del país para ver si se obtiene una mejor agrupación de las categorías."
   ]
  },
  {
   "cell_type": "code",
   "execution_count": 27,
   "id": "b4650c46",
   "metadata": {},
   "outputs": [],
   "source": [
    "# Agrupar categorías de nombre de cargo\n",
    "job_categories = base.job_title.unique().tolist()\n",
    "variable_type = \"job title\"\n",
    "aggregated_categories_job = aggregate_categories(variable_type, job_categories)"
   ]
  },
  {
   "cell_type": "code",
   "execution_count": 28,
   "id": "9fbdd8da",
   "metadata": {},
   "outputs": [
    {
     "name": "stdout",
     "output_type": "stream",
     "text": [
      "{'Machine Learning Engineer': 'Machine Learning', 'Data Engineer': 'Data Engineering', 'Data Science Engineer': 'Data Science', 'Analytics Engineer': 'Data Analysis', 'Data Strategy Manager': 'Data Management', 'Business Intelligence Engineer': 'Business Intelligence', 'Data Analyst': 'Data Analysis', 'Data Manager': 'Data Management', 'Data Scientist': 'Data Science', 'Machine Learning Scientist': 'Machine Learning', 'Data Architect': 'Data Architecture', 'Research Scientist': 'Research', 'Computer Vision Engineer': 'Computer Vision', 'Applied Scientist': 'Applied Science', 'Data Visualization Specialist': 'Data Visualization', 'ML Engineer': 'Machine Learning', 'Research Engineer': 'Research', 'Data Science Manager': 'Data Science', 'BI Analyst': 'Business Intelligence', 'Research Analyst': 'Research', 'Insight Analyst': 'Data Analysis', 'Business Intelligence Analyst': 'Business Intelligence', 'AI Engineer': 'Artificial Intelligence', 'Data Integration Specialist': 'Data Integration', 'Data Science Practitioner': 'Data Science', 'Director of Data Science': 'Data Science', 'Data Specialist': 'Data Management', 'Data Visualization Engineer': 'Data Visualization', 'Data Modeler': 'Data Modeling', 'Head of Data': 'Data Management', 'ETL Developer': 'ETL', 'BI Developer': 'Business Intelligence', 'Data Analytics Manager': 'Data Analysis', 'Decision Scientist': 'Decision Science', 'Machine Learning Infrastructure Engineer': 'Machine Learning', 'Data Lead': 'Data Management', 'Data Developer': 'Data Development', 'AI Developer': 'Artificial Intelligence', 'Principal Data Scientist': 'Data Science', 'Data Science Lead': 'Data Science', 'Business Data Analyst': 'Data Analysis', 'Machine Learning Researcher': 'Machine Learning', 'Data Infrastructure Engineer': 'Data Engineering', 'Machine Learning Software Engineer': 'Machine Learning', 'Machine Learning Operations Engineer': 'Machine Learning', 'AI Scientist': 'Artificial Intelligence', 'AI Research Engineer': 'Artificial Intelligence', 'Head of Machine Learning': 'Machine Learning', 'Data Science Consultant': 'Data Science', 'Business Intelligence Developer': 'Business Intelligence', 'Data Strategist': 'Data Strategy', 'Applied Data Scientist': 'Data Science', 'AI Programmer': 'Artificial Intelligence', 'Data Operations Analyst': 'Data Operations', 'MLOps Engineer': 'Machine Learning', 'Data Management Specialist': 'Data Management', 'Applied Machine Learning Scientist': 'Machine Learning', 'AI Architect': 'Artificial Intelligence', 'Data Analytics Lead': 'Data Analysis', 'Data Operations Engineer': 'Data Operations', 'Machine Learning Manager': 'Machine Learning', 'BI Data Analyst': 'Business Intelligence', 'Lead Data Scientist': 'Data Science', 'Principal Machine Learning Engineer': 'Machine Learning', 'Principal Data Engineer': 'Data Engineering', 'Power BI Developer': 'Business Intelligence', 'Data Quality Analyst': 'Data Quality', 'Head of Data Science': 'Data Science', 'Staff Machine Learning Engineer': 'Machine Learning', 'Consultant Data Engineer': 'Data Engineering', 'Machine Learning Specialist': 'Machine Learning', 'Data Quality Engineer': 'Data Quality', 'Deep Learning Engineer': 'Deep Learning', 'Business Intelligence Data Analyst': 'Business Intelligence', 'Data Operations Manager': 'Data Operations', 'Lead Machine Learning Engineer': 'Machine Learning', 'Data Modeller': 'Data Modeling', 'Finance Data Analyst': 'Data Analysis', 'Software Data Engineer': 'Data Engineering', 'Machine Learning Research Engineer': 'Machine Learning', 'Compliance Data Analyst': 'Data Analysis', 'Data Operations Specialist': 'Data Operations', 'Cloud Data Engineer': 'Cloud Computing', 'Analytics Engineering Manager': 'Data Analysis', 'NLP Engineer': 'Natural Language Processing', 'Staff Data Analyst': 'Data Analysis', 'AWS Data Architect': 'Cloud Computing', 'Product Data Analyst': 'Data Analysis', 'Machine Learning Developer': 'Machine Learning', 'Data Visualization Analyst': 'Data Visualization', 'Autonomous Vehicle Technician': 'Autonomous Vehicles', 'Applied Machine Learning Engineer': 'Machine Learning', 'ETL Engineer': 'ETL', 'Data DevOps Engineer': 'Data Operations', 'Big Data Engineer': 'Big Data', 'Lead Data Analyst': 'Data Analysis', 'BI Data Engineer': 'Business Intelligence', 'Cloud Database Engineer': 'Cloud Computing', 'Financial Data Analyst': 'Data Analysis', 'Deep Learning Researcher': 'Deep Learning', 'Data Analytics Specialist': 'Data Analysis', 'Big Data Architect': 'Big Data', 'Computer Vision Software Engineer': 'Computer Vision', 'Azure Data Engineer': 'Cloud Computing', 'Marketing Data Engineer': 'Data Engineering', 'Manager Data Management': 'Data Management', 'Data Analytics Consultant': 'Data Analysis', 'Data Science Tech Lead': 'Data Science', 'Data Scientist Lead': 'Data Science', 'Marketing Data Analyst': 'Data Analysis', 'Principal Data Architect': 'Data Architecture', 'Data Analytics Engineer': 'Data Analysis', 'Cloud Data Architect': 'Cloud Computing', 'Lead Data Engineer': 'Data Engineering', 'Principal Data Analyst': 'Data Analysis', 'Staff Data Scientist': 'Data Science'}\n"
     ]
    }
   ],
   "source": [
    "print(aggregated_categories_job)"
   ]
  },
  {
   "cell_type": "code",
   "execution_count": 29,
   "id": "d3e951c6",
   "metadata": {},
   "outputs": [
    {
     "data": {
      "text/plain": [
       "group_job_llm\n",
       "Data Science                   1898\n",
       "Data Engineering               1894\n",
       "Data Analysis                  1507\n",
       "Machine Learning               1072\n",
       "Research                        350\n",
       "Business Intelligence           236\n",
       "Applied Science                 226\n",
       "Data Management                 204\n",
       "Data Architecture               180\n",
       "Artificial Intelligence          76\n",
       "Decision Science                 36\n",
       "Data Operations                  33\n",
       "Computer Vision                  30\n",
       "Data Modeling                    22\n",
       "ETL                              20\n",
       "Data Strategy                    16\n",
       "Data Quality                     15\n",
       "Natural Language Processing      13\n",
       "Cloud Computing                  12\n",
       "Deep Learning                    11\n",
       "Data Visualization               10\n",
       "Big Data                          9\n",
       "Data Integration                  9\n",
       "Data Development                  6\n",
       "Autonomous Vehicles               2\n",
       "Name: count, dtype: int64"
      ]
     },
     "execution_count": 29,
     "metadata": {},
     "output_type": "execute_result"
    }
   ],
   "source": [
    "base[\"group_job_llm\"] = base.job_title.map(aggregated_categories_job).fillna(\"Other\")\n",
    "base.group_job_llm.value_counts()"
   ]
  },
  {
   "cell_type": "markdown",
   "id": "7d4359c4",
   "metadata": {},
   "source": [
    "Tiene algo más de sentido que la categorización anterior. Se va a probar inicialmente con esta variable y dependiendo del desempeño se podría hacer alguna modificación al prompt, para intentar dividirlo por áreas de trabajo."
   ]
  },
  {
   "cell_type": "code",
   "execution_count": 30,
   "id": "ec59db27",
   "metadata": {},
   "outputs": [
    {
     "data": {
      "text/html": [
       "<div>\n",
       "<style scoped>\n",
       "    .dataframe tbody tr th:only-of-type {\n",
       "        vertical-align: middle;\n",
       "    }\n",
       "\n",
       "    .dataframe tbody tr th {\n",
       "        vertical-align: top;\n",
       "    }\n",
       "\n",
       "    .dataframe thead th {\n",
       "        text-align: right;\n",
       "    }\n",
       "</style>\n",
       "<table border=\"1\" class=\"dataframe\">\n",
       "  <thead>\n",
       "    <tr style=\"text-align: right;\">\n",
       "      <th></th>\n",
       "      <th>work_year</th>\n",
       "      <th>experience_level</th>\n",
       "      <th>remote_ratio</th>\n",
       "      <th>company_size</th>\n",
       "      <th>salary_in_usd</th>\n",
       "      <th>continent_employee</th>\n",
       "      <th>group_job_llm</th>\n",
       "    </tr>\n",
       "  </thead>\n",
       "  <tbody>\n",
       "    <tr>\n",
       "      <th>0</th>\n",
       "      <td>2023</td>\n",
       "      <td>MI</td>\n",
       "      <td>100</td>\n",
       "      <td>M</td>\n",
       "      <td>150000</td>\n",
       "      <td>North America</td>\n",
       "      <td>Machine Learning</td>\n",
       "    </tr>\n",
       "    <tr>\n",
       "      <th>1</th>\n",
       "      <td>2023</td>\n",
       "      <td>MI</td>\n",
       "      <td>100</td>\n",
       "      <td>M</td>\n",
       "      <td>50000</td>\n",
       "      <td>North America</td>\n",
       "      <td>Machine Learning</td>\n",
       "    </tr>\n",
       "    <tr>\n",
       "      <th>2</th>\n",
       "      <td>2023</td>\n",
       "      <td>MI</td>\n",
       "      <td>0</td>\n",
       "      <td>M</td>\n",
       "      <td>73824</td>\n",
       "      <td>Europe</td>\n",
       "      <td>Data Engineering</td>\n",
       "    </tr>\n",
       "    <tr>\n",
       "      <th>3</th>\n",
       "      <td>2023</td>\n",
       "      <td>MI</td>\n",
       "      <td>0</td>\n",
       "      <td>M</td>\n",
       "      <td>55368</td>\n",
       "      <td>Europe</td>\n",
       "      <td>Data Engineering</td>\n",
       "    </tr>\n",
       "    <tr>\n",
       "      <th>4</th>\n",
       "      <td>2023</td>\n",
       "      <td>SE</td>\n",
       "      <td>100</td>\n",
       "      <td>M</td>\n",
       "      <td>220000</td>\n",
       "      <td>North America</td>\n",
       "      <td>Data Science</td>\n",
       "    </tr>\n",
       "  </tbody>\n",
       "</table>\n",
       "</div>"
      ],
      "text/plain": [
       "   work_year experience_level  remote_ratio company_size  salary_in_usd  \\\n",
       "0       2023               MI           100            M         150000   \n",
       "1       2023               MI           100            M          50000   \n",
       "2       2023               MI             0            M          73824   \n",
       "3       2023               MI             0            M          55368   \n",
       "4       2023               SE           100            M         220000   \n",
       "\n",
       "  continent_employee     group_job_llm  \n",
       "0      North America  Machine Learning  \n",
       "1      North America  Machine Learning  \n",
       "2             Europe  Data Engineering  \n",
       "3             Europe  Data Engineering  \n",
       "4      North America      Data Science  "
      ]
     },
     "execution_count": 30,
     "metadata": {},
     "output_type": "execute_result"
    }
   ],
   "source": [
    "base_final = base.drop(columns=[\"employee_residence\", \"job_title\", \"group_job\"])\n",
    "# Mostrar dataset final\n",
    "base_final.head(5)"
   ]
  },
  {
   "cell_type": "markdown",
   "id": "5db43015",
   "metadata": {},
   "source": [
    "## 3. Generar clase de ambiente de RL.\n",
    "\n",
    "Con la definición del ejercicio, se crea una clase con Gymnasium para simular el ambiente de aprendizaje para el agente. Dicha clase está contenida en el archivo `classes/salary_environment.py`. A continuación se describen las principales características del ambiente definido:\n",
    "\n",
    "* **observación:** es lo que el agente ve del entorno. Para este caso puntual es el promedio del salario, la desviación estándar (que juntos dan una idea de la distribución de la variable) y la cantidad de registros. De esta observación depende la acción que toma el agente en cada paso.\n",
    "* **acción:** es la acción que ejecuta el agente para obtener una recompensa. Las accione posibles del agente incluyen múltiples modelos con distintas configuraciones y valores de hiperparámetros. Se espera que el agente aprenda cual acción maximiza la recompensa en cada instante de tiempo.\n",
    "* **step:** iteración del ambiente. En este caso cada step es un año.\n",
    "* **recompensa:** el valor que determina la retroalimentación de la acción ejecutada por el agente. Se definió como el `-RMSE` ya que se quieren penalizar en mayor medida los valores con mayor error (no hay datos atípicos en la variable objetivo entonces no le agregará un sesgo importante al modelo).\n",
    "* **agente:** entidad que toma una acción en el ambiente para maximizar la recompensa. Se entrena un agente a través de múltiples iteraciones para que aprenda una política de acción dependiendo de la observación del ambiente.\n",
    "\n",
    "En esta sección se define el conjunto de acciones que puede realizar el agente y en la siguiente sección se realiza el ajuste del agente para que aprenda la política de acción."
   ]
  },
  {
   "cell_type": "code",
   "execution_count": 99,
   "id": "97e6187f",
   "metadata": {},
   "outputs": [],
   "source": [
    "# Cuando la llave kwargs no es definida se entrena el modelo default\n",
    "# Inizializar la lista de acciones\n",
    "list_actions = [\n",
    "    {\"base_model\": LinearRegression},\n",
    "    {\"base_model\": DecisionTreeRegressor},\n",
    "    {\"base_model\": RandomForestRegressor},\n",
    "    {\"base_model\": XGBRegressor}\n",
    "]"
   ]
  },
  {
   "cell_type": "markdown",
   "id": "c09eac63",
   "metadata": {},
   "source": [
    "En las siguientes celda se agregan modelos adicionales a la lista de acciones, con parámetros específicos para cada modelo."
   ]
  },
  {
   "cell_type": "code",
   "execution_count": 100,
   "id": "5ab6aa14",
   "metadata": {},
   "outputs": [],
   "source": [
    "# Decision Tree con parámetros específicos\n",
    "dict_parameters = {\n",
    "    \"max_depth\": [3, 5, 10],\n",
    "    \"min_samples_split\": [2, 5, 10, 25],\n",
    "    \"random_state\": [RANDOM_SEED]\n",
    "}\n",
    "for action in define_model(DecisionTreeRegressor, dict_parameters):\n",
    "    list_actions.append(action)"
   ]
  },
  {
   "cell_type": "code",
   "execution_count": 101,
   "id": "8cce7942",
   "metadata": {},
   "outputs": [
    {
     "data": {
      "text/plain": [
       "16"
      ]
     },
     "execution_count": 101,
     "metadata": {},
     "output_type": "execute_result"
    }
   ],
   "source": [
    "len(list_actions)"
   ]
  },
  {
   "cell_type": "code",
   "execution_count": 102,
   "id": "23ae12c4",
   "metadata": {},
   "outputs": [],
   "source": [
    "# Random Forest con parámetros específicos\n",
    "dict_parameters = {\n",
    "    \"n_estimators\": [25, 50, 100],\n",
    "    \"max_depth\": [3, 5, 10, 15],\n",
    "    \"min_samples_split\": [2, 5, 10, 25],\n",
    "    \"max_features\": [0.75, 1.0],\n",
    "    \"random_state\": [RANDOM_SEED]\n",
    "}\n",
    "for action in define_model(RandomForestRegressor, dict_parameters):\n",
    "    list_actions.append(action)"
   ]
  },
  {
   "cell_type": "code",
   "execution_count": 103,
   "id": "493155f5",
   "metadata": {},
   "outputs": [
    {
     "data": {
      "text/plain": [
       "112"
      ]
     },
     "execution_count": 103,
     "metadata": {},
     "output_type": "execute_result"
    }
   ],
   "source": [
    "len(list_actions)"
   ]
  },
  {
   "cell_type": "code",
   "execution_count": 104,
   "id": "19dc7eac",
   "metadata": {},
   "outputs": [],
   "source": [
    "# XGBoost con parámetros específicos\n",
    "dict_parameters = {\n",
    "    \"n_estimators\": [25, 50, 100],\n",
    "    \"max_depth\": [3, 5, 10, 15],\n",
    "    \"min_child_weight\": [2, 5, 10, 25],\n",
    "    \"subsample\": [0.75, 1.0],\n",
    "    \"random_state\": [RANDOM_SEED]\n",
    "}\n",
    "for action in define_model(XGBRegressor, dict_parameters):\n",
    "    list_actions.append(action)"
   ]
  },
  {
   "cell_type": "code",
   "execution_count": 105,
   "id": "6edfb812",
   "metadata": {},
   "outputs": [
    {
     "data": {
      "text/plain": [
       "208"
      ]
     },
     "execution_count": 105,
     "metadata": {},
     "output_type": "execute_result"
    }
   ],
   "source": [
    "len(list_actions)"
   ]
  },
  {
   "cell_type": "markdown",
   "id": "8ed15b24",
   "metadata": {},
   "source": [
    "Al final se van a contener 208 acciones posibles que puede seleccionar el agente en cada step. Ahora se va a crear un objeto con la clase definida en el archivo `classes/salary_environment.py`."
   ]
  },
  {
   "cell_type": "code",
   "execution_count": 106,
   "id": "d5f7b7ec",
   "metadata": {},
   "outputs": [
    {
     "data": {
      "text/plain": [
       "Index(['work_year', 'experience_level', 'remote_ratio', 'company_size',\n",
       "       'salary_in_usd', 'continent_employee', 'group_job_llm'],\n",
       "      dtype='object')"
      ]
     },
     "execution_count": 106,
     "metadata": {},
     "output_type": "execute_result"
    }
   ],
   "source": [
    "base_final.columns"
   ]
  },
  {
   "cell_type": "code",
   "execution_count": 107,
   "id": "ca215901",
   "metadata": {},
   "outputs": [],
   "source": [
    "# Crear objeto MLSalaryEnvironment\n",
    "salary_env = salary_environment.MLSalaryEnvironment(actions=list_actions, data=base_final, target_variable=\"salary_in_usd\", step_variable=\"work_year\", cat_features=[0, 2, 3, 4])\n",
    "# Se evalúa el entorno generado ya que es un entorno personalizado\n",
    "check_env(salary_env, warn=True)"
   ]
  },
  {
   "cell_type": "markdown",
   "id": "8972580a",
   "metadata": {},
   "source": [
    "## 4. Entrenar agente a través de timesteps.\n",
    "\n",
    "En esta sección se entrenará un agente para que aprenda como interactuar con el ambiente dependiendo de la observación (o estado) que reciba. La idea fundamental es que a través del uso de las acciones disponibles determine la política óptima de interacción con el ambiente. \n",
    "\n",
    "Para ello, se van a simular 3000 timesteps, donde el agente va a interactuar con el ambiente y va identificar a través del uso de las recompensas la política óptima (no necesariamente óptima pero es la idea).\n",
    "\n",
    "En este sentido, a continuación se define el agente y se corren los timesteps definidos."
   ]
  },
  {
   "cell_type": "code",
   "execution_count": null,
   "id": "20721636",
   "metadata": {},
   "outputs": [
    {
     "name": "stdout",
     "output_type": "stream",
     "text": [
      "Using cpu device\n",
      "Wrapping the env with a `Monitor` wrapper\n",
      "Wrapping the env in a DummyVecEnv.\n",
      "-----------------------------------\n",
      "| rollout/            |           |\n",
      "|    ep_len_mean      | 4         |\n",
      "|    ep_rew_mean      | -2.08e+05 |\n",
      "|    exploration_rate | 0.976     |\n",
      "| time/               |           |\n",
      "|    episodes         | 4         |\n",
      "|    fps              | 3         |\n",
      "|    time_elapsed     | 5         |\n",
      "|    total_timesteps  | 16        |\n",
      "-----------------------------------\n",
      "-----------------------------------\n",
      "| rollout/            |           |\n",
      "|    ep_len_mean      | 4         |\n",
      "|    ep_rew_mean      | -2.06e+05 |\n",
      "|    exploration_rate | 0.952     |\n",
      "| time/               |           |\n",
      "|    episodes         | 8         |\n",
      "|    fps              | 2         |\n",
      "|    time_elapsed     | 13        |\n",
      "|    total_timesteps  | 32        |\n",
      "-----------------------------------\n",
      "-----------------------------------\n",
      "| rollout/            |           |\n",
      "|    ep_len_mean      | 4         |\n",
      "|    ep_rew_mean      | -2.06e+05 |\n",
      "|    exploration_rate | 0.928     |\n",
      "| time/               |           |\n",
      "|    episodes         | 12        |\n",
      "|    fps              | 2         |\n",
      "|    time_elapsed     | 18        |\n",
      "|    total_timesteps  | 48        |\n",
      "-----------------------------------\n",
      "-----------------------------------\n",
      "| rollout/            |           |\n",
      "|    ep_len_mean      | 4         |\n",
      "|    ep_rew_mean      | -2.06e+05 |\n",
      "|    exploration_rate | 0.904     |\n",
      "| time/               |           |\n",
      "|    episodes         | 16        |\n",
      "|    fps              | 2         |\n",
      "|    time_elapsed     | 25        |\n",
      "|    total_timesteps  | 64        |\n",
      "-----------------------------------\n"
     ]
    },
    {
     "name": "stderr",
     "output_type": "stream",
     "text": [
      "d:\\jhoparra\\Repos\\bdb_technical_test\\venv\\lib\\site-packages\\sklearn\\preprocessing\\_encoders.py:246: UserWarning: Found unknown categories in columns [4] during transform. These unknown categories will be encoded as all zeros\n",
      "  warnings.warn(\n"
     ]
    },
    {
     "name": "stdout",
     "output_type": "stream",
     "text": [
      "-----------------------------------\n",
      "| rollout/            |           |\n",
      "|    ep_len_mean      | 4         |\n",
      "|    ep_rew_mean      | -2.07e+05 |\n",
      "|    exploration_rate | 0.88      |\n",
      "| time/               |           |\n",
      "|    episodes         | 20        |\n",
      "|    fps              | 2         |\n",
      "|    time_elapsed     | 31        |\n",
      "|    total_timesteps  | 80        |\n",
      "-----------------------------------\n"
     ]
    }
   ],
   "source": [
    "agent_salary = DQN(\"MlpPolicy\", salary_env, verbose=1, learning_rate=0.001, exploration_fraction=0.2, exploration_final_eps=0.1, batch_size=64)\n",
    "agent_salary.learn(total_timesteps=3000)"
   ]
  },
  {
   "cell_type": "markdown",
   "id": "5a2bde2d",
   "metadata": {},
   "source": [
    "## 5. Evaluar desempeño del agente.\n",
    "En esta sección se evalúa el desempeño del agente con el ambiente real y se obtienen los modelos entrenados para cada año, así como las recompensas y un breve comparativo contra algunos modelos base para determinar si el agente aprendió correctamente la política que maximiza la recompensa o que minimiza el error en este caso."
   ]
  },
  {
   "cell_type": "code",
   "execution_count": null,
   "id": "4b7e352f",
   "metadata": {},
   "outputs": [],
   "source": [
    "# Evaluación del agente y obtención de los modelos entrenados\n",
    "obs, info = salary_env.reset()\n",
    "rewards = {}\n",
    "model_hist = []\n",
    "action_dict = {}\n",
    "while True:\n",
    "    action, _ = agent_salary.predict(obs, deterministic=True)\n",
    "    action_id = action\n",
    "    obs, reward, done, _, info = salary_env.step(action)\n",
    "    model_hist.append(info)\n",
    "    year = list(info.keys())[0]\n",
    "    action_dict[year] = action_id\n",
    "    rewards[year] = reward\n",
    "    if done:\n",
    "        break"
   ]
  },
  {
   "cell_type": "code",
   "execution_count": 82,
   "id": "5becc5b6",
   "metadata": {},
   "outputs": [
    {
     "data": {
      "text/plain": [
       "{np.int64(2020): array(119),\n",
       " np.int64(2021): array(119),\n",
       " np.int64(2022): array(30),\n",
       " np.int64(2023): array(30)}"
      ]
     },
     "execution_count": 82,
     "metadata": {},
     "output_type": "execute_result"
    }
   ],
   "source": [
    "action_dict"
   ]
  },
  {
   "cell_type": "code",
   "execution_count": 83,
   "id": "65951bb0",
   "metadata": {},
   "outputs": [
    {
     "data": {
      "text/plain": [
       "[{np.int64(2020): <catboost.core.CatBoostRegressor at 0x24fd9c8fd90>},\n",
       " {np.int64(2021): <catboost.core.CatBoostRegressor at 0x24fd9d135e0>},\n",
       " {np.int64(2022): Pipeline(steps=[('ohe',\n",
       "                   OneHotEncoder(handle_unknown='ignore', sparse_output=False)),\n",
       "                  ('model',\n",
       "                   RandomForestRegressor(max_depth=5, max_features=0.75,\n",
       "                                         min_samples_split=25, n_estimators=25,\n",
       "                                         random_state=1010))])},\n",
       " {np.int64(2023): Pipeline(steps=[('ohe',\n",
       "                   OneHotEncoder(handle_unknown='ignore', sparse_output=False)),\n",
       "                  ('model',\n",
       "                   RandomForestRegressor(max_depth=5, max_features=0.75,\n",
       "                                         min_samples_split=25, n_estimators=25,\n",
       "                                         random_state=1010))])}]"
      ]
     },
     "execution_count": 83,
     "metadata": {},
     "output_type": "execute_result"
    }
   ],
   "source": [
    "# Diccionario con los modelos entrenados por año\n",
    "model_hist"
   ]
  },
  {
   "cell_type": "code",
   "execution_count": 84,
   "id": "73048c9c",
   "metadata": {},
   "outputs": [
    {
     "data": {
      "text/plain": [
       "{np.int64(2020): np.float64(-66250.49277062771),\n",
       " np.int64(2021): np.float64(-43142.57581220335),\n",
       " np.int64(2022): np.float64(-46216.6170761445),\n",
       " np.int64(2023): np.float64(-54063.97693687467)}"
      ]
     },
     "execution_count": 84,
     "metadata": {},
     "output_type": "execute_result"
    }
   ],
   "source": [
    "# Lista de recompensas obtenidas por el agente (se encuentran en negativo ya que se querían maximizar las recompensas)\n",
    "rewards"
   ]
  },
  {
   "cell_type": "code",
   "execution_count": 85,
   "id": "2be8884e",
   "metadata": {},
   "outputs": [
    {
     "name": "stdout",
     "output_type": "stream",
     "text": [
      "Evaluando año: 2020\n",
      "69540.54662333489\n",
      "Evaluando año: 2021\n",
      "56728.864125592954\n",
      "Evaluando año: 2022\n",
      "47115.608254280785\n",
      "Evaluando año: 2023\n",
      "52813.49386265319\n"
     ]
    }
   ],
   "source": [
    "# Desempeño de la regresión lineal default (agente es mejor en todos los años)\n",
    "target_variable = \"salary_in_usd\"\n",
    "step_variable = \"work_year\"\n",
    "action_dict = {year: 0 for year in np.sort(base.work_year.unique())}\n",
    "_ = simulate_steps(base, step_variable, target_variable, list_actions, action_dict)"
   ]
  },
  {
   "cell_type": "code",
   "execution_count": 86,
   "id": "cbba6cde",
   "metadata": {},
   "outputs": [
    {
     "name": "stdout",
     "output_type": "stream",
     "text": [
      "Evaluando año: 2020\n",
      "54514.2197676282\n",
      "Evaluando año: 2021\n",
      "42096.39050669662\n",
      "Evaluando año: 2022\n",
      "47431.99957903597\n",
      "Evaluando año: 2023\n",
      "52913.122337610264\n"
     ]
    }
   ],
   "source": [
    "# Desempeño del modelo de Random Forest default (agente es peor solo en el 2020)\n",
    "target_variable = \"salary_in_usd\"\n",
    "step_variable = \"work_year\"\n",
    "action_dict = {year: 2 for year in np.sort(base.work_year.unique())}\n",
    "_ = simulate_steps(base, step_variable, target_variable, list_actions, action_dict)"
   ]
  },
  {
   "cell_type": "code",
   "execution_count": null,
   "id": "59b0ddda",
   "metadata": {},
   "outputs": [],
   "source": [
    "# Desempeño del modelo de XGBoost default (agente es peor solo en el 2023)\n",
    "action_dict = {year: 3 for year in np.sort(base.work_year.unique())}\n",
    "_ = simulate_steps(base, step_variable, target_variable, list_actions, action_dict)"
   ]
  },
  {
   "cell_type": "markdown",
   "id": "e5224dd8",
   "metadata": {},
   "source": [
    "Se ve que la política seleccionada por el agente tiene sentido, ya que en 10 de las 12 comparaciones realizadas tanto con la regresión lineal default, random forest default y XGBoost default, el desempeño del modelo escogido por el agente es mejor al desempeño mostrado por los modelos default en la validación cruzada con 3 folds. Por ello se prosigue a realizar la predicción de la base solicitada."
   ]
  },
  {
   "cell_type": "markdown",
   "id": "30a394f0",
   "metadata": {},
   "source": [
    "## 6. Predicción base solicitada.\n",
    "\n",
    "A continuación, se realiza la predicción de la base solicitada para enviar el dataset con la calificación de los registros con la variable \"Llave pronóstico\". Para realizar esta predicción se realiza el mismo procesamiento que se realizó en el dataset base y luego se realiza la predicción por año, asegurando usar el modelo entrenado en ese año puntual para generar la predicción.\n",
    "\n",
    "Para finalizar, se hacen unas validaciones de datos nulos y de la distribución del salario estimado para ver que todo funcione según lo esperado."
   ]
  },
  {
   "cell_type": "code",
   "execution_count": 55,
   "id": "b58fadd6",
   "metadata": {},
   "outputs": [],
   "source": [
    "# Cargar datos de pronóstico\n",
    "forecast_data = pd.read_excel(\"./files/Base_Prueba_Tecnica_DSS.xlsx\", sheet_name=\"Pronosticos\")"
   ]
  },
  {
   "cell_type": "code",
   "execution_count": 56,
   "id": "04a43ad6",
   "metadata": {},
   "outputs": [
    {
     "name": "stdout",
     "output_type": "stream",
     "text": [
      "<class 'pandas.core.frame.DataFrame'>\n",
      "RangeIndex: 115 entries, 0 to 114\n",
      "Data columns (total 9 columns):\n",
      " #   Column              Non-Null Count  Dtype \n",
      "---  ------              --------------  ----- \n",
      " 0   Llave Pronostico    115 non-null    int64 \n",
      " 1   work_year           115 non-null    int64 \n",
      " 2   experience_level    115 non-null    object\n",
      " 3   employment_type     115 non-null    object\n",
      " 4   job_title           115 non-null    object\n",
      " 5   employee_residence  115 non-null    object\n",
      " 6   remote_ratio        115 non-null    int64 \n",
      " 7   company_location    115 non-null    object\n",
      " 8   company_size        115 non-null    object\n",
      "dtypes: int64(3), object(6)\n",
      "memory usage: 8.2+ KB\n"
     ]
    }
   ],
   "source": [
    "forecast_data.info()"
   ]
  },
  {
   "cell_type": "code",
   "execution_count": 57,
   "id": "97df18b8",
   "metadata": {},
   "outputs": [
    {
     "data": {
      "text/plain": [
       "work_year\n",
       "2020    39\n",
       "2021    55\n",
       "2022    20\n",
       "2023     1\n",
       "Name: count, dtype: int64"
      ]
     },
     "execution_count": 57,
     "metadata": {},
     "output_type": "execute_result"
    }
   ],
   "source": [
    "# Datos por año\n",
    "forecast_data.work_year.value_counts().sort_index()"
   ]
  },
  {
   "cell_type": "code",
   "execution_count": 58,
   "id": "c101c1b2",
   "metadata": {},
   "outputs": [],
   "source": [
    "# Realizar preprocesamiento realizado para el dataset base\n",
    "forecast_data[\"continent_employee\"] = forecast_data.employee_residence.map(aggregated_categories).fillna(\"Other\")\n",
    "forecast_data[\"group_job_llm\"] = forecast_data.job_title.map(aggregated_categories_job).fillna(\"Other\")"
   ]
  },
  {
   "cell_type": "code",
   "execution_count": 59,
   "id": "903d9ca6",
   "metadata": {},
   "outputs": [
    {
     "data": {
      "text/html": [
       "<div>\n",
       "<style scoped>\n",
       "    .dataframe tbody tr th:only-of-type {\n",
       "        vertical-align: middle;\n",
       "    }\n",
       "\n",
       "    .dataframe tbody tr th {\n",
       "        vertical-align: top;\n",
       "    }\n",
       "\n",
       "    .dataframe thead th {\n",
       "        text-align: right;\n",
       "    }\n",
       "</style>\n",
       "<table border=\"1\" class=\"dataframe\">\n",
       "  <thead>\n",
       "    <tr style=\"text-align: right;\">\n",
       "      <th></th>\n",
       "      <th>Llave Pronostico</th>\n",
       "      <th>work_year</th>\n",
       "      <th>experience_level</th>\n",
       "      <th>employment_type</th>\n",
       "      <th>job_title</th>\n",
       "      <th>employee_residence</th>\n",
       "      <th>remote_ratio</th>\n",
       "      <th>company_location</th>\n",
       "      <th>company_size</th>\n",
       "      <th>continent_employee</th>\n",
       "      <th>group_job_llm</th>\n",
       "    </tr>\n",
       "  </thead>\n",
       "  <tbody>\n",
       "    <tr>\n",
       "      <th>0</th>\n",
       "      <td>1</td>\n",
       "      <td>2020</td>\n",
       "      <td>EN</td>\n",
       "      <td>FT</td>\n",
       "      <td>Azure Data Engineer</td>\n",
       "      <td>MU</td>\n",
       "      <td>0</td>\n",
       "      <td>MU</td>\n",
       "      <td>S</td>\n",
       "      <td>Other</td>\n",
       "      <td>Cloud Computing</td>\n",
       "    </tr>\n",
       "    <tr>\n",
       "      <th>1</th>\n",
       "      <td>2</td>\n",
       "      <td>2020</td>\n",
       "      <td>EN</td>\n",
       "      <td>CT</td>\n",
       "      <td>Staff Data Analyst</td>\n",
       "      <td>CA</td>\n",
       "      <td>50</td>\n",
       "      <td>CA</td>\n",
       "      <td>L</td>\n",
       "      <td>North America</td>\n",
       "      <td>Data Analysis</td>\n",
       "    </tr>\n",
       "    <tr>\n",
       "      <th>2</th>\n",
       "      <td>3</td>\n",
       "      <td>2022</td>\n",
       "      <td>EN</td>\n",
       "      <td>FT</td>\n",
       "      <td>Research Engineer</td>\n",
       "      <td>RU</td>\n",
       "      <td>100</td>\n",
       "      <td>RU</td>\n",
       "      <td>M</td>\n",
       "      <td>Europe</td>\n",
       "      <td>Research</td>\n",
       "    </tr>\n",
       "    <tr>\n",
       "      <th>3</th>\n",
       "      <td>4</td>\n",
       "      <td>2020</td>\n",
       "      <td>SE</td>\n",
       "      <td>FT</td>\n",
       "      <td>Staff Data Scientist</td>\n",
       "      <td>US</td>\n",
       "      <td>50</td>\n",
       "      <td>US</td>\n",
       "      <td>M</td>\n",
       "      <td>North America</td>\n",
       "      <td>Data Science</td>\n",
       "    </tr>\n",
       "    <tr>\n",
       "      <th>4</th>\n",
       "      <td>5</td>\n",
       "      <td>2020</td>\n",
       "      <td>EX</td>\n",
       "      <td>FT</td>\n",
       "      <td>Managing Director Data Science</td>\n",
       "      <td>US</td>\n",
       "      <td>100</td>\n",
       "      <td>US</td>\n",
       "      <td>L</td>\n",
       "      <td>North America</td>\n",
       "      <td>Other</td>\n",
       "    </tr>\n",
       "  </tbody>\n",
       "</table>\n",
       "</div>"
      ],
      "text/plain": [
       "   Llave Pronostico  work_year experience_level employment_type  \\\n",
       "0                 1       2020               EN              FT   \n",
       "1                 2       2020               EN              CT   \n",
       "2                 3       2022               EN              FT   \n",
       "3                 4       2020               SE              FT   \n",
       "4                 5       2020               EX              FT   \n",
       "\n",
       "                        job_title employee_residence  remote_ratio  \\\n",
       "0             Azure Data Engineer                 MU             0   \n",
       "1              Staff Data Analyst                 CA            50   \n",
       "2               Research Engineer                 RU           100   \n",
       "3            Staff Data Scientist                 US            50   \n",
       "4  Managing Director Data Science                 US           100   \n",
       "\n",
       "  company_location company_size continent_employee    group_job_llm  \n",
       "0               MU            S              Other  Cloud Computing  \n",
       "1               CA            L      North America    Data Analysis  \n",
       "2               RU            M             Europe         Research  \n",
       "3               US            M      North America     Data Science  \n",
       "4               US            L      North America            Other  "
      ]
     },
     "execution_count": 59,
     "metadata": {},
     "output_type": "execute_result"
    }
   ],
   "source": [
    "forecast_data.head()"
   ]
  },
  {
   "cell_type": "code",
   "execution_count": 61,
   "id": "2ded8629",
   "metadata": {},
   "outputs": [
    {
     "data": {
      "text/plain": [
       "[{np.int64(2020): Pipeline(steps=[('ohe',\n",
       "                   OneHotEncoder(handle_unknown='ignore', sparse_output=False)),\n",
       "                  ('model',\n",
       "                   RandomForestRegressor(max_depth=10, max_features=0.75,\n",
       "                                         min_samples_split=10, n_estimators=50,\n",
       "                                         random_state=1010))])},\n",
       " {np.int64(2021): Pipeline(steps=[('ohe',\n",
       "                   OneHotEncoder(handle_unknown='ignore', sparse_output=False)),\n",
       "                  ('model',\n",
       "                   RandomForestRegressor(max_depth=10, max_features=0.75,\n",
       "                                         min_samples_split=10, n_estimators=50,\n",
       "                                         random_state=1010))])},\n",
       " {np.int64(2022): Pipeline(steps=[('ohe',\n",
       "                   OneHotEncoder(handle_unknown='ignore', sparse_output=False)),\n",
       "                  ('model',\n",
       "                   RandomForestRegressor(max_depth=3, max_features=0.75,\n",
       "                                         min_samples_split=25, n_estimators=25,\n",
       "                                         random_state=1010))])},\n",
       " {np.int64(2023): Pipeline(steps=[('ohe',\n",
       "                   OneHotEncoder(handle_unknown='ignore', sparse_output=False)),\n",
       "                  ('model',\n",
       "                   RandomForestRegressor(max_depth=10, max_features=0.75,\n",
       "                                         min_samples_split=25,\n",
       "                                         random_state=1010))])}]"
      ]
     },
     "execution_count": 61,
     "metadata": {},
     "output_type": "execute_result"
    }
   ],
   "source": [
    "model_hist"
   ]
  },
  {
   "cell_type": "code",
   "execution_count": null,
   "id": "0f8d8c17",
   "metadata": {},
   "outputs": [],
   "source": [
    "list_df = []\n",
    "for idx, year in enumerate(np.sort(base.work_year.unique())):\n",
    "    print(f\"Año: {year}\")\n",
    "    # Filtrar datos de pronóstico para el año actual\n",
    "    temp_forecast_data = forecast_data[forecast_data.work_year == year]\n",
    "    # Asegurarse de que las columnas coincidan con el modelo entrenado y realizar predicción\n",
    "    y_forecast = model_hist[idx][year].predict(temp_forecast_data[base_final.drop(columns=[\"work_year\", \"salary_in_usd\"]).columns])\n",
    "    # Agregar la columna de predicción al DataFrame temporal\n",
    "    temp_forecast_data[\"predicted_salary\"] = y_forecast\n",
    "    list_df.append(temp_forecast_data)\n",
    "\n",
    "forecast_results = pd.concat(list_df, ignore_index=True)"
   ]
  },
  {
   "cell_type": "code",
   "execution_count": 63,
   "id": "1be95062",
   "metadata": {},
   "outputs": [
    {
     "data": {
      "text/html": [
       "<div>\n",
       "<style scoped>\n",
       "    .dataframe tbody tr th:only-of-type {\n",
       "        vertical-align: middle;\n",
       "    }\n",
       "\n",
       "    .dataframe tbody tr th {\n",
       "        vertical-align: top;\n",
       "    }\n",
       "\n",
       "    .dataframe thead th {\n",
       "        text-align: right;\n",
       "    }\n",
       "</style>\n",
       "<table border=\"1\" class=\"dataframe\">\n",
       "  <thead>\n",
       "    <tr style=\"text-align: right;\">\n",
       "      <th></th>\n",
       "      <th>Llave Pronostico</th>\n",
       "      <th>predicted_salary</th>\n",
       "    </tr>\n",
       "  </thead>\n",
       "  <tbody>\n",
       "    <tr>\n",
       "      <th>0</th>\n",
       "      <td>1</td>\n",
       "      <td>64823.440218</td>\n",
       "    </tr>\n",
       "    <tr>\n",
       "      <th>1</th>\n",
       "      <td>2</td>\n",
       "      <td>111589.852543</td>\n",
       "    </tr>\n",
       "    <tr>\n",
       "      <th>2</th>\n",
       "      <td>4</td>\n",
       "      <td>117395.308321</td>\n",
       "    </tr>\n",
       "    <tr>\n",
       "      <th>3</th>\n",
       "      <td>5</td>\n",
       "      <td>206979.138043</td>\n",
       "    </tr>\n",
       "    <tr>\n",
       "      <th>4</th>\n",
       "      <td>7</td>\n",
       "      <td>74872.305854</td>\n",
       "    </tr>\n",
       "  </tbody>\n",
       "</table>\n",
       "</div>"
      ],
      "text/plain": [
       "   Llave Pronostico  predicted_salary\n",
       "0                 1      64823.440218\n",
       "1                 2     111589.852543\n",
       "2                 4     117395.308321\n",
       "3                 5     206979.138043\n",
       "4                 7      74872.305854"
      ]
     },
     "execution_count": 63,
     "metadata": {},
     "output_type": "execute_result"
    }
   ],
   "source": [
    "# Dataset de resultados de pronóstico\n",
    "forecast_results[[\"Llave Pronostico\", \"predicted_salary\"]].head()"
   ]
  },
  {
   "cell_type": "code",
   "execution_count": 64,
   "id": "59501948",
   "metadata": {},
   "outputs": [
    {
     "data": {
      "text/plain": [
       "predicted_salary\n",
       "False    115\n",
       "Name: count, dtype: int64"
      ]
     },
     "execution_count": 64,
     "metadata": {},
     "output_type": "execute_result"
    }
   ],
   "source": [
    "# Revisar no tener valores nulos\n",
    "forecast_results.predicted_salary.isna().value_counts()"
   ]
  },
  {
   "cell_type": "code",
   "execution_count": 65,
   "id": "2b679197",
   "metadata": {},
   "outputs": [
    {
     "data": {
      "text/html": [
       "<div>\n",
       "<style scoped>\n",
       "    .dataframe tbody tr th:only-of-type {\n",
       "        vertical-align: middle;\n",
       "    }\n",
       "\n",
       "    .dataframe tbody tr th {\n",
       "        vertical-align: top;\n",
       "    }\n",
       "\n",
       "    .dataframe thead th {\n",
       "        text-align: right;\n",
       "    }\n",
       "</style>\n",
       "<table border=\"1\" class=\"dataframe\">\n",
       "  <thead>\n",
       "    <tr style=\"text-align: right;\">\n",
       "      <th></th>\n",
       "      <th>count</th>\n",
       "      <th>mean</th>\n",
       "      <th>std</th>\n",
       "      <th>min</th>\n",
       "      <th>25%</th>\n",
       "      <th>50%</th>\n",
       "      <th>75%</th>\n",
       "      <th>max</th>\n",
       "    </tr>\n",
       "    <tr>\n",
       "      <th>work_year</th>\n",
       "      <th></th>\n",
       "      <th></th>\n",
       "      <th></th>\n",
       "      <th></th>\n",
       "      <th></th>\n",
       "      <th></th>\n",
       "      <th></th>\n",
       "      <th></th>\n",
       "    </tr>\n",
       "  </thead>\n",
       "  <tbody>\n",
       "    <tr>\n",
       "      <th>2020</th>\n",
       "      <td>39.0</td>\n",
       "      <td>96154.636629</td>\n",
       "      <td>34150.738864</td>\n",
       "      <td>54919.944520</td>\n",
       "      <td>72110.622502</td>\n",
       "      <td>83458.708894</td>\n",
       "      <td>108528.864878</td>\n",
       "      <td>206979.138043</td>\n",
       "    </tr>\n",
       "    <tr>\n",
       "      <th>2021</th>\n",
       "      <td>55.0</td>\n",
       "      <td>94149.807512</td>\n",
       "      <td>42396.332423</td>\n",
       "      <td>37965.726178</td>\n",
       "      <td>66143.685652</td>\n",
       "      <td>77633.987559</td>\n",
       "      <td>112485.941651</td>\n",
       "      <td>208951.161658</td>\n",
       "    </tr>\n",
       "    <tr>\n",
       "      <th>2022</th>\n",
       "      <td>20.0</td>\n",
       "      <td>138895.829009</td>\n",
       "      <td>34101.407042</td>\n",
       "      <td>54691.167280</td>\n",
       "      <td>133763.450956</td>\n",
       "      <td>157352.884397</td>\n",
       "      <td>157352.884397</td>\n",
       "      <td>170381.011011</td>\n",
       "    </tr>\n",
       "    <tr>\n",
       "      <th>2023</th>\n",
       "      <td>1.0</td>\n",
       "      <td>95041.437931</td>\n",
       "      <td>NaN</td>\n",
       "      <td>95041.437931</td>\n",
       "      <td>95041.437931</td>\n",
       "      <td>95041.437931</td>\n",
       "      <td>95041.437931</td>\n",
       "      <td>95041.437931</td>\n",
       "    </tr>\n",
       "  </tbody>\n",
       "</table>\n",
       "</div>"
      ],
      "text/plain": [
       "           count           mean           std           min            25%  \\\n",
       "work_year                                                                    \n",
       "2020        39.0   96154.636629  34150.738864  54919.944520   72110.622502   \n",
       "2021        55.0   94149.807512  42396.332423  37965.726178   66143.685652   \n",
       "2022        20.0  138895.829009  34101.407042  54691.167280  133763.450956   \n",
       "2023         1.0   95041.437931           NaN  95041.437931   95041.437931   \n",
       "\n",
       "                     50%            75%            max  \n",
       "work_year                                               \n",
       "2020        83458.708894  108528.864878  206979.138043  \n",
       "2021        77633.987559  112485.941651  208951.161658  \n",
       "2022       157352.884397  157352.884397  170381.011011  \n",
       "2023        95041.437931   95041.437931   95041.437931  "
      ]
     },
     "execution_count": 65,
     "metadata": {},
     "output_type": "execute_result"
    }
   ],
   "source": [
    "# Validación de salario promedio por año\n",
    "forecast_results.groupby(\"work_year\")[\"predicted_salary\"].describe()"
   ]
  },
  {
   "cell_type": "code",
   "execution_count": 83,
   "id": "cb05ffb2",
   "metadata": {},
   "outputs": [],
   "source": [
    "# Exportar resultados a csv\n",
    "forecast_results[[\"Llave Pronostico\", \"predicted_salary\"]].to_csv(\"./files/forecast_results.csv\", index=False)"
   ]
  },
  {
   "cell_type": "markdown",
   "id": "e0b405db",
   "metadata": {},
   "source": [
    "Viendo la distribución de las predicciones no se ve un comportamiento extraño. De acuerdo con la gráfica de la mediana del salario por año, parecía que el 2021 tenía salarios más altos que el 2020. Sin embargo, en la predicción el salario del 2021 es más bajo que el del 2020. Pero no es mucho menor, por lo cual se procede con la última sección de aprendizajes y aplicabilidad del código y modelos desarrollados."
   ]
  },
  {
   "cell_type": "markdown",
   "id": "e29996ed",
   "metadata": {},
   "source": [
    "## 7. Aprendizajes finales del modelo y aplicabilidad real.\n",
    "\n",
    "Para finalizar el ejercicio, se obtiene la importancia de las características en cada modelo para determinar las variables que más influyen en la respuesta. Así mismo se definen algunos escenarios de aplicabilidad del ejercicio realizado y del modelo generado para dar una visión más general de potenciales próximos pasos."
   ]
  },
  {
   "cell_type": "code",
   "execution_count": null,
   "id": "f395a4e4",
   "metadata": {},
   "outputs": [],
   "source": []
  }
 ],
 "metadata": {
  "kernelspec": {
   "display_name": "venv",
   "language": "python",
   "name": "python3"
  },
  "language_info": {
   "codemirror_mode": {
    "name": "ipython",
    "version": 3
   },
   "file_extension": ".py",
   "mimetype": "text/x-python",
   "name": "python",
   "nbconvert_exporter": "python",
   "pygments_lexer": "ipython3",
   "version": "3.10.7"
  }
 },
 "nbformat": 4,
 "nbformat_minor": 5
}
